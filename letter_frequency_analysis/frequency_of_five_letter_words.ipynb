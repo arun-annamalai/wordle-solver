{
 "cells": [
  {
   "cell_type": "code",
   "execution_count": 11,
   "id": "37747559",
   "metadata": {},
   "outputs": [],
   "source": [
    "from english_words import english_words_lower_alpha_set\n",
    "from functools import lru_cache\n",
    "from string import ascii_lowercase\n"
   ]
  },
  {
   "cell_type": "code",
   "execution_count": 25,
   "id": "2b8a31e2",
   "metadata": {},
   "outputs": [],
   "source": [
    "@lru_cache(maxsize=None)\n",
    "def candidate_words(size: int = 5):\n",
    "    \"\"\"\n",
    "    Get English words of a particular size\n",
    "    \"\"\"\n",
    "    possible_words = {\n",
    "        word\n",
    "        for word in english_words_lower_alpha_set\n",
    "        if all(letter in ascii_lowercase for letter in word)\n",
    "    }\n",
    "    return sorted(word for word in possible_words if len(word) == size)"
   ]
  },
  {
   "cell_type": "code",
   "execution_count": 31,
   "id": "29602698",
   "metadata": {},
   "outputs": [],
   "source": [
    "def freq_of_letter():\n",
    "    freq = {l:0 for l in ascii_lowercase}\n",
    "    for word in candidate_words():\n",
    "        for letter in word:\n",
    "            freq[letter] += 1\n",
    "    return freq"
   ]
  },
  {
   "cell_type": "code",
   "execution_count": 38,
   "id": "7c931483",
   "metadata": {},
   "outputs": [],
   "source": [
    "def normalize_letter_freq():\n",
    "    letter_freq = freq_of_letter()\n",
    "    total_freq = sum(letter_freq.values())\n",
    "    for letter in letter_freq:\n",
    "        letter_freq[letter] /= total_freq\n",
    "    return letter_freq\n"
   ]
  },
  {
   "cell_type": "code",
   "execution_count": 39,
   "id": "519d5c86",
   "metadata": {},
   "outputs": [
    {
     "data": {
      "text/plain": [
       "{'a': 0.09688667496886674,\n",
       " 'b': 0.026338729763387296,\n",
       " 'c': 0.04078455790784558,\n",
       " 'd': 0.03212951432129514,\n",
       " 'e': 0.10466998754669987,\n",
       " 'f': 0.017061021170610213,\n",
       " 'g': 0.025529265255292654,\n",
       " 'h': 0.033686176836861766,\n",
       " 'i': 0.0589041095890411,\n",
       " 'j': 0.0036114570361145703,\n",
       " 'k': 0.01855541718555417,\n",
       " 'l': 0.06257783312577833,\n",
       " 'm': 0.02907845579078456,\n",
       " 'n': 0.05417185554171856,\n",
       " 'o': 0.06575342465753424,\n",
       " 'p': 0.029016189290161892,\n",
       " 'q': 0.0023661270236612704,\n",
       " 'r': 0.07017434620174347,\n",
       " 's': 0.05971357409713574,\n",
       " 't': 0.05927770859277708,\n",
       " 'u': 0.038107098381070986,\n",
       " 'v': 0.012017434620174346,\n",
       " 'w': 0.014321295143212951,\n",
       " 'x': 0.004171855541718556,\n",
       " 'y': 0.03661270236612702,\n",
       " 'z': 0.00448318804483188}"
      ]
     },
     "execution_count": 39,
     "metadata": {},
     "output_type": "execute_result"
    }
   ],
   "source": [
    "normalize_letter_freq()"
   ]
  },
  {
   "cell_type": "markdown",
   "id": "c5272b62",
   "metadata": {},
   "source": [
    "# Export"
   ]
  },
  {
   "cell_type": "code",
   "execution_count": 45,
   "id": "71c74bff",
   "metadata": {},
   "outputs": [],
   "source": [
    "import csv\n",
    "\n",
    "with open(\"letter_freqs.csv\", \"w\") as file:\n",
    "    writer = csv.writer(file)\n",
    "    for key, val in normalize_letter_freq().items():\n",
    "        writer.writerow([key, val])"
   ]
  },
  {
   "cell_type": "code",
   "execution_count": null,
   "id": "b8c13486",
   "metadata": {},
   "outputs": [],
   "source": []
  }
 ],
 "metadata": {
  "kernelspec": {
   "display_name": "Python 3",
   "language": "python",
   "name": "python3"
  },
  "language_info": {
   "codemirror_mode": {
    "name": "ipython",
    "version": 3
   },
   "file_extension": ".py",
   "mimetype": "text/x-python",
   "name": "python",
   "nbconvert_exporter": "python",
   "pygments_lexer": "ipython3",
   "version": "3.8.5"
  }
 },
 "nbformat": 4,
 "nbformat_minor": 5
}
